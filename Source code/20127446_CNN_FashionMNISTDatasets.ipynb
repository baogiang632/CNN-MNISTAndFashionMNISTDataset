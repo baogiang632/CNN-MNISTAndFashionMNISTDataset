{
  "cells": [
    {
      "cell_type": "markdown",
      "metadata": {
        "id": "RQ21NqGzHqk1"
      },
      "source": [
        "# 0. Import necessary library"
      ]
    },
    {
      "cell_type": "code",
      "execution_count": null,
      "metadata": {
        "id": "jzlXg6kGGbOg"
      },
      "outputs": [],
      "source": [
        "import tensorflow as tf\n",
        "from tensorflow import keras"
      ]
    },
    {
      "cell_type": "markdown",
      "metadata": {
        "id": "OpRJVd_lHuNM"
      },
      "source": [
        "# 1. Thu thập dữ liệu Fashion-MNIST"
      ]
    },
    {
      "cell_type": "code",
      "execution_count": null,
      "metadata": {
        "id": "83mDUgg0GevG"
      },
      "outputs": [],
      "source": [
        "# Load MNIST datasets\n",
        "from keras.datasets import fashion_mnist\n",
        "(train_images, train_labels), (test_images, test_labels) = fashion_mnist.load_data()"
      ]
    },
    {
      "cell_type": "code",
      "execution_count": null,
      "metadata": {
        "id": "IctLCpAvGwui"
      },
      "outputs": [],
      "source": [
        "# Preprocessing dataset\n",
        "train_images = train_images.reshape((60000,28,28,1))\n",
        "train_images = train_images.astype('float32')/255\n",
        "\n",
        "test_images = test_images.reshape((10000,28,28,1))\n",
        "test_images = test_images.astype('float32')/255\n",
        "\n",
        "# Convert labels to one-hot format\n",
        "from keras.utils import to_categorical\n",
        "\n",
        "train_labels = to_categorical(train_labels)\n",
        "test_labels = to_categorical(test_labels)"
      ]
    },
    {
      "cell_type": "markdown",
      "metadata": {
        "id": "3ppt-6hKH5ep"
      },
      "source": [
        "# 2. Xây dựng Convolutional Neural Network"
      ]
    },
    {
      "cell_type": "code",
      "execution_count": null,
      "metadata": {
        "id": "mgnS-EPqG1It"
      },
      "outputs": [],
      "source": [
        "from keras import layers\n",
        "from keras import models\n",
        "# Building Model\n",
        "\n",
        "model = models.Sequential()\n",
        "model.add(layers.Conv2D(32,(3,3), activation='relu', input_shape = (28,28,1)))\n",
        "model.add(layers.MaxPooling2D((2,2)))\n",
        "model.add(layers.Conv2D(64,(3,3), activation='relu'))\n",
        "model.add(layers.MaxPooling2D((2,2)))\n",
        "model.add(layers.Conv2D(64,(3,3), activation='relu'))\n",
        "model.add(layers.Flatten())\n",
        "\n",
        "hidden_node = 100\n",
        "model.add(layers.Dense(hidden_node,activation = 'relu')) # first hidden layer\n",
        "#model.add(layers.Dense(hidden_node,activation = 'relu')) # second hidden layer\n",
        "#model.add(layers.Dense(hidden_node,activation = 'relu')) # third hidden layer\n",
        "model.add(layers.Dense(10, activation= 'softmax'))\n",
        "\n",
        "#model.summary()"
      ]
    },
    {
      "cell_type": "code",
      "execution_count": null,
      "metadata": {
        "id": "Bjqh_VA0G3a5"
      },
      "outputs": [],
      "source": [
        "# Setting optimizer, loss and metrics\n",
        "model.compile(optimizer = 'rmsprop', loss = 'categorical_crossentropy', metrics = ['accuracy'])"
      ]
    },
    {
      "cell_type": "code",
      "execution_count": null,
      "metadata": {
        "colab": {
          "base_uri": "https://localhost:8080/"
        },
        "id": "6RPd8HgyG48t",
        "outputId": "f4239bb3-a608-4dba-f04c-2401c9396e25"
      },
      "outputs": [],
      "source": [
        "# Fitting the model and setting epochs\n",
        "model.fit(train_images, train_labels, epochs=5, batch_size = 64)"
      ]
    },
    {
      "cell_type": "code",
      "execution_count": null,
      "metadata": {
        "colab": {
          "base_uri": "https://localhost:8080/"
        },
        "id": "iD2YcKMPG6ap",
        "outputId": "357a9006-59a0-4218-cb0d-623c1314399c"
      },
      "outputs": [],
      "source": [
        "# Show accuracy and loss\n",
        "model.evaluate(test_images, test_labels)[1]"
      ]
    }
  ],
  "metadata": {
    "colab": {
      "provenance": []
    },
    "kernelspec": {
      "display_name": "Python 3",
      "name": "python3"
    },
    "language_info": {
      "name": "python"
    }
  },
  "nbformat": 4,
  "nbformat_minor": 0
}
