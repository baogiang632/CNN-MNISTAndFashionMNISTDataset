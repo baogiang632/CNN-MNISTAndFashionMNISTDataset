{
  "cells": [
    {
      "cell_type": "markdown",
      "metadata": {
        "id": "NNdNOKluHTy1"
      },
      "source": [
        "# 0. Import necessary library"
      ]
    },
    {
      "cell_type": "code",
      "execution_count": null,
      "metadata": {
        "id": "lttq-RIorl35"
      },
      "outputs": [],
      "source": [
        "import tensorflow as tf\n",
        "from tensorflow import keras"
      ]
    },
    {
      "cell_type": "markdown",
      "metadata": {
        "id": "KSTUtiKYFWDB"
      },
      "source": [
        "# 1. Thu thập dữ liệu MNIST"
      ]
    },
    {
      "cell_type": "code",
      "execution_count": null,
      "metadata": {
        "colab": {
          "base_uri": "https://localhost:8080/"
        },
        "id": "DR5sa0lttq_1",
        "outputId": "2b25ce1d-cbff-4af2-c726-39bb2ea18fba"
      },
      "outputs": [],
      "source": [
        "# Load MNIST datasets\n",
        "from keras.datasets import mnist\n",
        "(train_images, train_labels), (test_images, test_labels) = mnist.load_data()"
      ]
    },
    {
      "cell_type": "code",
      "execution_count": null,
      "metadata": {
        "id": "Js01PnGBvD63"
      },
      "outputs": [],
      "source": [
        "# Preprocessing dataset\n",
        "train_images = train_images.reshape((60000,28,28,1))\n",
        "train_images = train_images.astype('float32')/255\n",
        "\n",
        "test_images = test_images.reshape((10000,28,28,1))\n",
        "test_images = test_images.astype('float32')/255\n",
        "\n",
        "# Convert labels to one-hot format\n",
        "from keras.utils import to_categorical\n",
        "\n",
        "train_labels = to_categorical(train_labels)\n",
        "test_labels = to_categorical(test_labels)"
      ]
    },
    {
      "cell_type": "markdown",
      "metadata": {
        "id": "3CSxbs4eFo6o"
      },
      "source": [
        "# 2. Xây dựng Convolutional Neural Network "
      ]
    },
    {
      "cell_type": "code",
      "execution_count": null,
      "metadata": {
        "id": "yKhoNImOylkS"
      },
      "outputs": [],
      "source": [
        "from keras import layers\n",
        "from keras import models\n",
        "# Building Model\n",
        "\n",
        "model = models.Sequential()\n",
        "model.add(layers.Conv2D(32,(3,3), activation='relu', input_shape = (28,28,1)))\n",
        "model.add(layers.MaxPooling2D((2,2)))\n",
        "model.add(layers.Conv2D(64,(3,3), activation='relu'))\n",
        "model.add(layers.MaxPooling2D((2,2  )))\n",
        "model.add(layers.Conv2D(64,(3,3), activation='relu'))\n",
        "model.add(layers.Flatten())\n",
        "\n",
        "hidden_node = 100\n",
        "model.add(layers.Dense(hidden_node,activation = 'relu')) # first hidden layer\n",
        "#model.add(layers.Dense(hidden_node,activation = 'relu')) # second hidden layer\n",
        "#model.add(layers.Dense(hidden_node,activation = 'relu')) # third hidden layer\n",
        "model.add(layers.Dense(10, activation= 'softmax'))\n",
        "\n",
        "\n",
        "#model.summary()"
      ]
    },
    {
      "cell_type": "code",
      "execution_count": null,
      "metadata": {
        "id": "1SFwRgM876rg"
      },
      "outputs": [],
      "source": [
        "# Setting optimizer, loss and metrics\n",
        "model.compile(optimizer = 'rmsprop', loss = 'categorical_crossentropy', metrics = ['accuracy'])"
      ]
    },
    {
      "cell_type": "code",
      "execution_count": null,
      "metadata": {
        "colab": {
          "base_uri": "https://localhost:8080/"
        },
        "id": "-J9v4bVa78gk",
        "outputId": "499351c5-514a-477a-f0a5-343e518f5318"
      },
      "outputs": [],
      "source": [
        "# Fitting the model and setting epochs\n",
        "model.fit(train_images, train_labels, epochs=5, batch_size = 64)"
      ]
    },
    {
      "cell_type": "code",
      "execution_count": null,
      "metadata": {
        "colab": {
          "base_uri": "https://localhost:8080/"
        },
        "id": "oRFaoym278xg",
        "outputId": "fe7c2da0-02b6-40d3-9072-c6b34bed780b"
      },
      "outputs": [],
      "source": [
        "# Show accuracy and loss\n",
        "model.evaluate(test_images, test_labels)[1]"
      ]
    }
  ],
  "metadata": {
    "accelerator": "GPU",
    "colab": {
      "provenance": []
    },
    "gpuClass": "standard",
    "kernelspec": {
      "display_name": "Python 3",
      "name": "python3"
    },
    "language_info": {
      "name": "python"
    }
  },
  "nbformat": 4,
  "nbformat_minor": 0
}
